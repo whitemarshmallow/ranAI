{
 "cells": [
  {
   "cell_type": "code",
   "execution_count": null,
   "id": "1c11ef60",
   "metadata": {},
   "outputs": [],
   "source": [
    "import pandas as pd\n",
    "\n",
    "def load_and_clean_data(filepath):\n",
    "    # 加载数据\n",
    "    data = pd.read_csv(filepath)\n",
    "    \n",
    "    # 数据清洗\n",
    "    data.dropna(inplace=True)  # 删除空值\n",
    "    data = data[data['RSRP'] > -120]  # 删除RSRP异常值\n",
    "    \n",
    "    return data\n",
    "\n",
    "def integrate_data(performance_data, fault_data, maintenance_data):\n",
    "    # 数据整合\n",
    "    data = pd.merge(performance_data, fault_data, on='timestamp', how='outer')\n",
    "    data = pd.merge(data, maintenance_data, on='timestamp', how='outer')\n",
    "    \n",
    "    # 特征工程\n",
    "    data['fault_occurred'] = data['fault_type'].apply(lambda x: 0 if pd.isna(x) else 1)\n",
    "    \n",
    "    return data\n",
    "\n",
    "def main():\n",
    "    # 假设数据文件路径\n",
    "    performance_path = 'performance_data.csv'\n",
    "    fault_path = 'fault_data.csv'\n",
    "    maintenance_path = 'maintenance_data.csv'\n",
    "    \n",
    "    # 加载和清洗数据\n",
    "    performance_data = load_and_clean_data(performance_path)\n",
    "    fault_data = load_and_clean_data(fault_path)\n",
    "    maintenance_data = load_and_clean_data(maintenance_path)\n",
    "    \n",
    "    # 数据整合\n",
    "    final_data = integrate_data(performance_data, fault_data, maintenance_data)\n",
    "    \n",
    "    # 保存整理后的数据\n",
    "    final_data.to_csv('integrated_data.csv', index=False)\n",
    "\n",
    "if __name__ == '__main__':\n",
    "    main()\n"
   ]
  }
 ],
 "metadata": {
  "kernelspec": {
   "display_name": "Python 3 (ipykernel)",
   "language": "python",
   "name": "python3"
  },
  "language_info": {
   "codemirror_mode": {
    "name": "ipython",
    "version": 3
   },
   "file_extension": ".py",
   "mimetype": "text/x-python",
   "name": "python",
   "nbconvert_exporter": "python",
   "pygments_lexer": "ipython3",
   "version": "3.9.12"
  }
 },
 "nbformat": 4,
 "nbformat_minor": 5
}
